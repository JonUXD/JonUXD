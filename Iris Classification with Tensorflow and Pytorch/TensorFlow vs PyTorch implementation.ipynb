{
 "cells": [
  {
   "cell_type": "code",
   "execution_count": 1,
   "metadata": {},
   "outputs": [
    {
     "name": "stderr",
     "output_type": "stream",
     "text": [
      "/anaconda3/lib/python3.6/site-packages/h5py/__init__.py:36: FutureWarning: Conversion of the second argument of issubdtype from `float` to `np.floating` is deprecated. In future, it will be treated as `np.float64 == np.dtype(float).type`.\n",
      "  from ._conv import register_converters as _register_converters\n",
      "Using TensorFlow backend.\n"
     ]
    }
   ],
   "source": [
    "import sklearn as sk\n",
    "from sklearn import datasets\n",
    "import matplotlib.pyplot as plt\n",
    "from sklearn.model_selection import train_test_split\n",
    "import tensorflow as tf\n",
    "from tensorflow.python.keras.callbacks import TensorBoard\n",
    "from time import time\n",
    "from sklearn.metrics import classification_report,confusion_matrix\n",
    "from sklearn import preprocessing\n",
    "from sklearn.preprocessing import LabelEncoder\n",
    "from keras.utils import np_utils\n",
    "from keras.utils.np_utils import to_categorical\n",
    "import torch\n",
    "import torch.nn as nn #PyTorch's module wrapper\n",
    "import torch.optim as optim #PyTorch's optimiser\n",
    "from torch.autograd import Variable #\n",
    "import numpy as np"
   ]
  },
  {
   "cell_type": "code",
   "execution_count": 2,
   "metadata": {},
   "outputs": [
    {
     "name": "stdout",
     "output_type": "stream",
     "text": [
      ".. _iris_dataset:\n",
      "\n",
      "Iris plants dataset\n",
      "--------------------\n",
      "\n",
      "**Data Set Characteristics:**\n",
      "\n",
      "    :Number of Instances: 150 (50 in each of three classes)\n",
      "    :Number of Attributes: 4 numeric, predictive attributes and the class\n",
      "    :Attribute Information:\n",
      "        - sepal length in cm\n",
      "        - sepal width in cm\n",
      "        - petal length in cm\n",
      "        - petal width in cm\n",
      "        - class:\n",
      "                - Iris-Setosa\n",
      "                - Iris-Versicolour\n",
      "                - Iris-Virginica\n",
      "                \n",
      "    :Summary Statistics:\n",
      "\n",
      "    ============== ==== ==== ======= ===== ====================\n",
      "                    Min  Max   Mean    SD   Class Correlation\n",
      "    ============== ==== ==== ======= ===== ====================\n",
      "    sepal length:   4.3  7.9   5.84   0.83    0.7826\n",
      "    sepal width:    2.0  4.4   3.05   0.43   -0.4194\n",
      "    petal length:   1.0  6.9   3.76   1.76    0.9490  (high!)\n",
      "    petal width:    0.1  2.5   1.20   0.76    0.9565  (high!)\n",
      "    ============== ==== ==== ======= ===== ====================\n",
      "\n",
      "    :Missing Attribute Values: None\n",
      "    :Class Distribution: 33.3% for each of 3 classes.\n",
      "    :Creator: R.A. Fisher\n",
      "    :Donor: Michael Marshall (MARSHALL%PLU@io.arc.nasa.gov)\n",
      "    :Date: July, 1988\n",
      "\n",
      "The famous Iris database, first used by Sir R.A. Fisher. The dataset is taken\n",
      "from Fisher's paper. Note that it's the same as in R, but not as in the UCI\n",
      "Machine Learning Repository, which has two wrong data points.\n",
      "\n",
      "This is perhaps the best known database to be found in the\n",
      "pattern recognition literature.  Fisher's paper is a classic in the field and\n",
      "is referenced frequently to this day.  (See Duda & Hart, for example.)  The\n",
      "data set contains 3 classes of 50 instances each, where each class refers to a\n",
      "type of iris plant.  One class is linearly separable from the other 2; the\n",
      "latter are NOT linearly separable from each other.\n",
      "\n",
      ".. topic:: References\n",
      "\n",
      "   - Fisher, R.A. \"The use of multiple measurements in taxonomic problems\"\n",
      "     Annual Eugenics, 7, Part II, 179-188 (1936); also in \"Contributions to\n",
      "     Mathematical Statistics\" (John Wiley, NY, 1950).\n",
      "   - Duda, R.O., & Hart, P.E. (1973) Pattern Classification and Scene Analysis.\n",
      "     (Q327.D83) John Wiley & Sons.  ISBN 0-471-22361-1.  See page 218.\n",
      "   - Dasarathy, B.V. (1980) \"Nosing Around the Neighborhood: A New System\n",
      "     Structure and Classification Rule for Recognition in Partially Exposed\n",
      "     Environments\".  IEEE Transactions on Pattern Analysis and Machine\n",
      "     Intelligence, Vol. PAMI-2, No. 1, 67-71.\n",
      "   - Gates, G.W. (1972) \"The Reduced Nearest Neighbor Rule\".  IEEE Transactions\n",
      "     on Information Theory, May 1972, 431-433.\n",
      "   - See also: 1988 MLC Proceedings, 54-64.  Cheeseman et al\"s AUTOCLASS II\n",
      "     conceptual clustering system finds 3 classes in the data.\n",
      "   - Many, many more ...\n"
     ]
    }
   ],
   "source": [
    "iris = datasets.load_iris()\n",
    "print(iris.DESCR)"
   ]
  },
  {
   "cell_type": "code",
   "execution_count": 3,
   "metadata": {},
   "outputs": [
    {
     "name": "stdout",
     "output_type": "stream",
     "text": [
      "(150, 4)\n"
     ]
    }
   ],
   "source": [
    "X = iris.data # We take the first two features\n",
    "X = preprocessing.normalize(X)\n",
    "Y = iris.target\n",
    "print(X.shape)"
   ]
  },
  {
   "cell_type": "code",
   "execution_count": 4,
   "metadata": {},
   "outputs": [],
   "source": [
    "encoder = LabelEncoder()\n",
    "encoder.fit(Y)\n",
    "Y = encoder.transform(Y)\n",
    "Y = np_utils.to_categorical(Y)"
   ]
  },
  {
   "cell_type": "code",
   "execution_count": 5,
   "metadata": {},
   "outputs": [
    {
     "data": {
      "image/png": "[encoded data removed]",
      "text/plain": [
       "<Figure size 432x288 with 1 Axes>"
      ]
     },
     "metadata": {},
     "output_type": "display_data"
    }
   ],
   "source": [
    "plt.scatter(X[:,0], X[:,1], c=Y, s=40, cmap=plt.cm.Spectral)\n",
    "plt.title('Iris DATA Blue - Versicolor, Red - Virginica')\n",
    "plt.xlabel('Sepal Length')\n",
    "plt.ylabel('Sepal Width')\n",
    "plt.show()"
   ]
  },
  {
   "cell_type": "code",
   "execution_count": 6,
   "metadata": {},
   "outputs": [],
   "source": [
    "X_train, X_test, y_train, y_test = train_test_split(X, Y, test_size = 0.2)"
   ]
  },
  {
   "cell_type": "code",
   "execution_count": 7,
   "metadata": {},
   "outputs": [
    {
     "name": "stdout",
     "output_type": "stream",
     "text": [
      "(120, 4)\n",
      "(30, 4)\n",
      "(120, 3)\n",
      "(30, 3)\n"
     ]
    }
   ],
   "source": [
    "print(X_train.shape)\n",
    "print(X_test.shape)\n",
    "print(y_train.shape)\n",
    "print(y_test.shape)"
   ]
  },
  {
   "cell_type": "markdown",
   "metadata": {},
   "source": [
    "## TensorFlow - Keras Neural Networks"
   ]
  },
  {
   "cell_type": "markdown",
   "metadata": {},
   "source": [
    "model2 = tf.keras.models.Sequential([\n",
    "  tf.keras.layers.Flatten(),\n",
    "  tf.keras.layers.Dense(4,input_shape=(4,),activation='relu'),\n",
    "  tf.keras.layers.Dropout(0),\n",
    "  tf.keras.layers.Dense(5, activation=\"relu\"),\n",
    "  tf.keras.layers.Dense(3, activation=\"softmax\")\n",
    "]) \n",
    "adam = tf.keras.optimizers.Adam()\n",
    "model2.compile(optimizer=adam,\n",
    "              loss='categorical_crossentropy', # Sparse as the classification is numerical\n",
    "              metrics=['accuracy'])\n",
    "tensorboard = TensorBoard(log_dir=\"logs/\".format(time))\n",
    "y_pred = model2.predict_classes(x=X_test)\n",
    "history = model2.fit(X_train, y_train, epochs=10, batch_size = 2, shuffle=True, callbacks=[tensorboard])\n",
    "print(model2.evaluate(X_test, y_test))\n",
    "print(y_pred2)"
   ]
  },
  {
   "cell_type": "code",
   "execution_count": 8,
   "metadata": {},
   "outputs": [
    {
     "name": "stdout",
     "output_type": "stream",
     "text": [
      "Epoch 1/100\n",
      "120/120 [==============================] - 0s 2ms/step - loss: 1.1534 - acc: 0.3417\n",
      "Epoch 2/100\n",
      "120/120 [==============================] - 0s 361us/step - loss: 1.1413 - acc: 0.3417\n",
      "Epoch 3/100\n",
      "120/120 [==============================] - 0s 395us/step - loss: 1.1317 - acc: 0.3417\n",
      "Epoch 4/100\n",
      "120/120 [==============================] - 0s 360us/step - loss: 1.1255 - acc: 0.3417\n",
      "Epoch 5/100\n",
      "120/120 [==============================] - 0s 318us/step - loss: 1.1194 - acc: 0.3417\n",
      "Epoch 6/100\n",
      "120/120 [==============================] - 0s 308us/step - loss: 1.1144 - acc: 0.3417\n",
      "Epoch 7/100\n",
      "120/120 [==============================] - 0s 386us/step - loss: 1.1097 - acc: 0.3417\n",
      "Epoch 8/100\n",
      "120/120 [==============================] - 0s 335us/step - loss: 1.1060 - acc: 0.3417\n",
      "Epoch 9/100\n",
      "120/120 [==============================] - 0s 363us/step - loss: 1.1023 - acc: 0.3417\n",
      "Epoch 10/100\n",
      "120/120 [==============================] - 0s 370us/step - loss: 1.0993 - acc: 0.3417\n",
      "Epoch 11/100\n",
      "120/120 [==============================] - 0s 356us/step - loss: 1.0965 - acc: 0.3417\n",
      "Epoch 12/100\n",
      "120/120 [==============================] - 0s 363us/step - loss: 1.0932 - acc: 0.3417\n",
      "Epoch 13/100\n",
      "120/120 [==============================] - 0s 337us/step - loss: 1.0901 - acc: 0.3417\n",
      "Epoch 14/100\n",
      "120/120 [==============================] - 0s 332us/step - loss: 1.0871 - acc: 0.3417\n",
      "Epoch 15/100\n",
      "120/120 [==============================] - 0s 370us/step - loss: 1.0842 - acc: 0.3417\n",
      "Epoch 16/100\n",
      "120/120 [==============================] - 0s 326us/step - loss: 1.0809 - acc: 0.3417\n",
      "Epoch 17/100\n",
      "120/120 [==============================] - 0s 355us/step - loss: 1.0775 - acc: 0.3417\n",
      "Epoch 18/100\n",
      "120/120 [==============================] - 0s 343us/step - loss: 1.0734 - acc: 0.3417\n",
      "Epoch 19/100\n",
      "120/120 [==============================] - 0s 332us/step - loss: 1.0695 - acc: 0.3500\n",
      "Epoch 20/100\n",
      "120/120 [==============================] - 0s 455us/step - loss: 1.0655 - acc: 0.3667\n",
      "Epoch 21/100\n",
      "120/120 [==============================] - 0s 325us/step - loss: 1.0608 - acc: 0.4333\n",
      "Epoch 22/100\n",
      "120/120 [==============================] - 0s 315us/step - loss: 1.0553 - acc: 0.4917\n",
      "Epoch 23/100\n",
      "120/120 [==============================] - 0s 336us/step - loss: 1.0465 - acc: 0.5750\n",
      "Epoch 24/100\n",
      "120/120 [==============================] - 0s 349us/step - loss: 1.0336 - acc: 0.6833\n",
      "Epoch 25/100\n",
      "120/120 [==============================] - 0s 316us/step - loss: 1.0189 - acc: 0.6917\n",
      "Epoch 26/100\n",
      "120/120 [==============================] - 0s 400us/step - loss: 1.0044 - acc: 0.6917\n",
      "Epoch 27/100\n",
      "120/120 [==============================] - 0s 398us/step - loss: 0.9893 - acc: 0.6917\n",
      "Epoch 28/100\n",
      "120/120 [==============================] - 0s 351us/step - loss: 0.9726 - acc: 0.6917\n",
      "Epoch 29/100\n",
      "120/120 [==============================] - 0s 381us/step - loss: 0.9553 - acc: 0.6917\n",
      "Epoch 30/100\n",
      "120/120 [==============================] - 0s 350us/step - loss: 0.9362 - acc: 0.6917\n",
      "Epoch 31/100\n",
      "120/120 [==============================] - 0s 359us/step - loss: 0.9072 - acc: 0.6917\n",
      "Epoch 32/100\n",
      "120/120 [==============================] - 0s 376us/step - loss: 0.8748 - acc: 0.6917\n",
      "Epoch 33/100\n",
      "120/120 [==============================] - 0s 380us/step - loss: 0.8400 - acc: 0.6917\n",
      "Epoch 34/100\n",
      "120/120 [==============================] - 0s 434us/step - loss: 0.8102 - acc: 0.6917\n",
      "Epoch 35/100\n",
      "120/120 [==============================] - 0s 354us/step - loss: 0.7828 - acc: 0.6917\n",
      "Epoch 36/100\n",
      "120/120 [==============================] - 0s 384us/step - loss: 0.7572 - acc: 0.6917\n",
      "Epoch 37/100\n",
      "120/120 [==============================] - 0s 404us/step - loss: 0.7298 - acc: 0.6917\n",
      "Epoch 38/100\n",
      "120/120 [==============================] - 0s 375us/step - loss: 0.7057 - acc: 0.6917\n",
      "Epoch 39/100\n",
      "120/120 [==============================] - 0s 375us/step - loss: 0.6830 - acc: 0.6917\n",
      "Epoch 40/100\n",
      "120/120 [==============================] - 0s 331us/step - loss: 0.6610 - acc: 0.6917\n",
      "Epoch 41/100\n",
      "120/120 [==============================] - 0s 343us/step - loss: 0.6404 - acc: 0.6917\n",
      "Epoch 42/100\n",
      "120/120 [==============================] - 0s 320us/step - loss: 0.6217 - acc: 0.6917\n",
      "Epoch 43/100\n",
      "120/120 [==============================] - 0s 356us/step - loss: 0.6044 - acc: 0.6917\n",
      "Epoch 44/100\n",
      "120/120 [==============================] - 0s 392us/step - loss: 0.5888 - acc: 0.6917\n",
      "Epoch 45/100\n",
      "120/120 [==============================] - 0s 399us/step - loss: 0.5743 - acc: 0.6917\n",
      "Epoch 46/100\n",
      "120/120 [==============================] - 0s 401us/step - loss: 0.5606 - acc: 0.6917\n",
      "Epoch 47/100\n",
      "120/120 [==============================] - 0s 369us/step - loss: 0.5482 - acc: 0.6917\n",
      "Epoch 48/100\n",
      "120/120 [==============================] - 0s 386us/step - loss: 0.5369 - acc: 0.6917\n",
      "Epoch 49/100\n",
      "120/120 [==============================] - 0s 379us/step - loss: 0.5259 - acc: 0.6917\n",
      "Epoch 50/100\n",
      "120/120 [==============================] - 0s 360us/step - loss: 0.5151 - acc: 0.6917\n",
      "Epoch 51/100\n",
      "120/120 [==============================] - 0s 348us/step - loss: 0.5045 - acc: 0.7000\n",
      "Epoch 52/100\n",
      "120/120 [==============================] - 0s 345us/step - loss: 0.4944 - acc: 0.7083\n",
      "Epoch 53/100\n",
      "120/120 [==============================] - 0s 355us/step - loss: 0.4846 - acc: 0.7167\n",
      "Epoch 54/100\n",
      "120/120 [==============================] - 0s 364us/step - loss: 0.4751 - acc: 0.7167\n",
      "Epoch 55/100\n",
      "120/120 [==============================] - 0s 335us/step - loss: 0.4676 - acc: 0.7167\n",
      "Epoch 56/100\n",
      "120/120 [==============================] - 0s 302us/step - loss: 0.4598 - acc: 0.7250\n",
      "Epoch 57/100\n",
      "120/120 [==============================] - 0s 325us/step - loss: 0.4531 - acc: 0.7583\n",
      "Epoch 58/100\n",
      "120/120 [==============================] - 0s 335us/step - loss: 0.4467 - acc: 0.7667\n",
      "Epoch 59/100\n",
      "120/120 [==============================] - 0s 307us/step - loss: 0.4408 - acc: 0.7583\n",
      "Epoch 60/100\n",
      "120/120 [==============================] - 0s 268us/step - loss: 0.4350 - acc: 0.8250\n",
      "Epoch 61/100\n",
      "120/120 [==============================] - 0s 285us/step - loss: 0.4286 - acc: 0.8500\n",
      "Epoch 62/100\n",
      "120/120 [==============================] - 0s 330us/step - loss: 0.4240 - acc: 0.8250\n",
      "Epoch 63/100\n",
      "120/120 [==============================] - 0s 294us/step - loss: 0.4175 - acc: 0.8583\n",
      "Epoch 64/100\n",
      "120/120 [==============================] - 0s 331us/step - loss: 0.4117 - acc: 0.8583\n",
      "Epoch 65/100\n",
      "120/120 [==============================] - 0s 290us/step - loss: 0.4072 - acc: 0.8583\n",
      "Epoch 66/100\n",
      "120/120 [==============================] - 0s 307us/step - loss: 0.4003 - acc: 0.8583\n",
      "Epoch 67/100\n",
      "120/120 [==============================] - 0s 341us/step - loss: 0.3952 - acc: 0.8667\n",
      "Epoch 68/100\n",
      "120/120 [==============================] - 0s 312us/step - loss: 0.3918 - acc: 0.8917\n",
      "Epoch 69/100\n",
      "120/120 [==============================] - 0s 318us/step - loss: 0.3852 - acc: 0.8917\n",
      "Epoch 70/100\n",
      "120/120 [==============================] - 0s 329us/step - loss: 0.3801 - acc: 0.8667\n",
      "Epoch 71/100\n",
      "120/120 [==============================] - 0s 304us/step - loss: 0.3750 - acc: 0.9083\n",
      "Epoch 72/100\n",
      "120/120 [==============================] - 0s 319us/step - loss: 0.3706 - acc: 0.9250\n",
      "Epoch 73/100\n",
      "120/120 [==============================] - 0s 364us/step - loss: 0.3648 - acc: 0.9000\n",
      "Epoch 74/100\n",
      "120/120 [==============================] - 0s 321us/step - loss: 0.3606 - acc: 0.8917\n",
      "Epoch 75/100\n",
      "120/120 [==============================] - 0s 282us/step - loss: 0.3586 - acc: 0.9417\n",
      "Epoch 76/100\n",
      "120/120 [==============================] - 0s 312us/step - loss: 0.3501 - acc: 0.9500\n",
      "Epoch 77/100\n",
      "120/120 [==============================] - 0s 303us/step - loss: 0.3462 - acc: 0.9167\n",
      "Epoch 78/100\n",
      "120/120 [==============================] - 0s 245us/step - loss: 0.3417 - acc: 0.9250\n",
      "Epoch 79/100\n",
      "120/120 [==============================] - 0s 274us/step - loss: 0.3364 - acc: 0.9167\n",
      "Epoch 80/100\n",
      "120/120 [==============================] - 0s 287us/step - loss: 0.3383 - acc: 0.9333\n",
      "Epoch 81/100\n",
      "120/120 [==============================] - 0s 279us/step - loss: 0.3298 - acc: 0.9083\n",
      "Epoch 82/100\n",
      "120/120 [==============================] - 0s 282us/step - loss: 0.3230 - acc: 0.9167\n",
      "Epoch 83/100\n",
      "120/120 [==============================] - 0s 233us/step - loss: 0.3185 - acc: 0.9500\n",
      "Epoch 84/100\n",
      "120/120 [==============================] - 0s 318us/step - loss: 0.3162 - acc: 0.9500\n",
      "Epoch 85/100\n",
      "120/120 [==============================] - 0s 259us/step - loss: 0.3107 - acc: 0.9583\n",
      "Epoch 86/100\n",
      "120/120 [==============================] - 0s 270us/step - loss: 0.3074 - acc: 0.9583\n",
      "Epoch 87/100\n",
      "120/120 [==============================] - 0s 255us/step - loss: 0.3022 - acc: 0.9500\n",
      "Epoch 88/100\n",
      "120/120 [==============================] - 0s 282us/step - loss: 0.2990 - acc: 0.9333\n",
      "Epoch 89/100\n",
      "120/120 [==============================] - 0s 283us/step - loss: 0.3043 - acc: 0.9500\n",
      "Epoch 90/100\n",
      "120/120 [==============================] - 0s 262us/step - loss: 0.2894 - acc: 0.9500\n",
      "Epoch 91/100\n",
      "120/120 [==============================] - 0s 299us/step - loss: 0.2880 - acc: 0.9333\n",
      "Epoch 92/100\n",
      "120/120 [==============================] - 0s 397us/step - loss: 0.2834 - acc: 0.9583\n",
      "Epoch 93/100\n",
      "120/120 [==============================] - 0s 435us/step - loss: 0.2817 - acc: 0.9583\n",
      "Epoch 94/100\n",
      "120/120 [==============================] - 0s 387us/step - loss: 0.2774 - acc: 0.9583\n",
      "Epoch 95/100\n",
      "120/120 [==============================] - 0s 424us/step - loss: 0.2719 - acc: 0.9667\n",
      "Epoch 96/100\n",
      "120/120 [==============================] - 0s 383us/step - loss: 0.2697 - acc: 0.9583\n",
      "Epoch 97/100\n",
      "120/120 [==============================] - 0s 307us/step - loss: 0.2656 - acc: 0.9583\n",
      "Epoch 98/100\n",
      "120/120 [==============================] - 0s 305us/step - loss: 0.2625 - acc: 0.9583\n",
      "Epoch 99/100\n",
      "120/120 [==============================] - 0s 271us/step - loss: 0.2584 - acc: 0.9583\n",
      "Epoch 100/100\n",
      "120/120 [==============================] - 0s 279us/step - loss: 0.2591 - acc: 0.9500\n",
      "30/30 [==============================] - 0s 3ms/step\n",
      "\n",
      "acc: 96.67%\n"
     ]
    }
   ],
   "source": [
    "input_dim = 4 # The four features of the dataset\n",
    "\n",
    "model = tf.keras.models.Sequential([\n",
    "    tf.keras.layers.Dense(4, input_dim = input_dim), # no activation function for input\n",
    "    tf.keras.layers.Dense(10, activation = 'relu'),\n",
    "    tf.keras.layers.Dense(3, activation = 'softmax')\n",
    "])\n",
    "\n",
    "model.compile(optimizer = 'adam', loss = 'categorical_crossentropy',  metrics = ['accuracy'] )\n",
    "tensorboard = TensorBoard(log_dir=\"/Users/jon/Documents/LSBU/2\\ Statistical\\ Analysis\\ and\\ Modeling/Paper\\ 6\\ January/logs/\".format(time))\n",
    "model.fit(X_train, y_train, epochs = 100, batch_size = 10, callbacks=[tensorboard])\n",
    "\n",
    "scores = model.evaluate(X_test, y_test)\n",
    "print(\"\\n%s: %.2f%%\" % (model.metrics_names[1], scores[1]*100))"
   ]
  },
  {
   "cell_type": "markdown",
   "metadata": {},
   "source": [
    "### Accuracy of the neural network"
   ]
  },
  {
   "cell_type": "code",
   "execution_count": 9,
   "metadata": {},
   "outputs": [
    {
     "name": "stdout",
     "output_type": "stream",
     "text": [
      "The accuracy of the model is: 96.66666666666667%\n"
     ]
    }
   ],
   "source": [
    "prediction_tf = model.predict(X_test)\n",
    "\n",
    "predicted_values = []\n",
    "for num in range(len(prediction_tf)):\n",
    "    predicted_values.append(np.argmax(prediction_tf[num]))\n",
    "\n",
    "test_values = []\n",
    "for item in y_test:\n",
    "    test_values.append(np.argmax(item))\n",
    "correct = 0\n",
    "\n",
    "for prediction, test in zip(predicted_values, test_values):\n",
    "    if prediction == test:\n",
    "        correct = correct+1\n",
    "        \n",
    "accuracy = correct/len(predicted_values)\n",
    "\n",
    "print(\"The accuracy of the model is: \"+str(accuracy*100)+\"%\")"
   ]
  },
  {
   "cell_type": "code",
   "execution_count": 10,
   "metadata": {},
   "outputs": [
    {
     "data": {
      "text/plain": [
       "array([[ 8,  0,  0],\n",
       "       [ 0, 12,  1],\n",
       "       [ 0,  0,  9]])"
      ]
     },
     "execution_count": 10,
     "metadata": {},
     "output_type": "execute_result"
    }
   ],
   "source": [
    "confusion_matrix(y_true=test_values, y_pred=predicted_values)"
   ]
  },
  {
   "cell_type": "markdown",
   "metadata": {},
   "source": [
    "## Pytorch"
   ]
  },
  {
   "cell_type": "code",
   "execution_count": 11,
   "metadata": {},
   "outputs": [],
   "source": [
    "X_train_tensor = Variable(torch.FloatTensor(X_train), requires_grad = False)\n",
    "y_train_tensor = Variable(torch.FloatTensor(y_train), requires_grad = False)\n",
    "X_test_tensor = Variable(torch.FloatTensor(X_test), requires_grad = False)\n",
    "y_test_tensor = Variable(torch.FloatTensor(y_test), requires_grad = False)"
   ]
  },
  {
   "cell_type": "code",
   "execution_count": 12,
   "metadata": {},
   "outputs": [
    {
     "name": "stdout",
     "output_type": "stream",
     "text": [
      "tensor([0.7692, 0.3077, 0.5385, 0.1538])\n"
     ]
    }
   ],
   "source": [
    "print(X_train_tensor[0])"
   ]
  },
  {
   "cell_type": "code",
   "execution_count": 13,
   "metadata": {},
   "outputs": [],
   "source": [
    "class LinearClassifier(nn.Module):\n",
    "    def __init__(self):\n",
    "        super(LinearClassifier, self).__init__()\n",
    "        self.h_layer = nn.Linear(4, 10)\n",
    "        self.act_h = nn.ReLU()\n",
    "        self.i_layer = nn.Linear(10, 3)\n",
    "        self.s_layer = nn.Softmax()\n",
    "    def forward(self,x):\n",
    "        y = self.h_layer(x)\n",
    "        a = self.act_h(y)\n",
    "        q = self.i_layer(a)\n",
    "        p = self.s_layer(q)\n",
    "        return q\n",
    "model_pytorch = LinearClassifier() \n",
    "loss_fn = nn.BCELoss() # calculates the loss\n",
    "optim = torch.optim.Adam(model_pytorch.parameters(), lr = 0.04)"
   ]
  },
  {
   "cell_type": "code",
   "execution_count": 14,
   "metadata": {},
   "outputs": [
    {
     "name": "stderr",
     "output_type": "stream",
     "text": [
      "/anaconda3/lib/python3.6/site-packages/ipykernel_launcher.py:12: UserWarning: Implicit dimension choice for softmax has been deprecated. Change the call to include dim=X as an argument.\n",
      "  if sys.path[0] == '':\n"
     ]
    }
   ],
   "source": [
    "all_losses = []\n",
    "for num in range(200): \n",
    "    pred = model_pytorch(X_train_tensor) # this predicts the class of training data\n",
    "    loss = loss_fn(pred, y_train_tensor) # calculates loss based on real values\n",
    "    all_losses.append(loss.data)\n",
    "    optim.zero_grad()\n",
    "    loss.backward() # updates the weights based on loss\n",
    "    optim.step() # update optimiser for next iteration"
   ]
  },
  {
   "cell_type": "code",
   "execution_count": 15,
   "metadata": {},
   "outputs": [
    {
     "data": {
      "image/png": "[encoded data removed]",
      "text/plain": [
       "<Figure size 432x288 with 1 Axes>"
      ]
     },
     "metadata": {},
     "output_type": "display_data"
    },
    {
     "name": "stdout",
     "output_type": "stream",
     "text": [
      "tensor([1.5540e-04, 9.2472e-01, 7.5129e-02], grad_fn=<SelectBackward>)\n",
      "tensor([0., 1., 0.])\n",
      "0.055241093039512634\n"
     ]
    }
   ],
   "source": [
    "%matplotlib inline\n",
    "all_losses = np.array(all_losses, dtype = np.float)\n",
    "plt.plot(all_losses)\n",
    "plt.show()\n",
    "print(pred[3])\n",
    "print(y_train_tensor[3])\n",
    "print(all_losses[-1])"
   ]
  },
  {
   "cell_type": "code",
   "execution_count": 16,
   "metadata": {},
   "outputs": [
    {
     "name": "stderr",
     "output_type": "stream",
     "text": [
      "/anaconda3/lib/python3.6/site-packages/ipykernel_launcher.py:12: UserWarning: Implicit dimension choice for softmax has been deprecated. Change the call to include dim=X as an argument.\n",
      "  if sys.path[0] == '':\n"
     ]
    }
   ],
   "source": [
    "from sklearn.metrics import accuracy_score\n",
    "predicted_values_pytorch_tensor = []\n",
    "for num in range(len(X_test_tensor)):\n",
    "    predicted_values_pytorch_tensor.append(model_pytorch(X_test_tensor[num]))"
   ]
  },
  {
   "cell_type": "code",
   "execution_count": 17,
   "metadata": {
    "scrolled": true
   },
   "outputs": [
    {
     "name": "stdout",
     "output_type": "stream",
     "text": [
      "[2, 0, 1, 1, 2, 0, 0, 1, 2, 0, 1, 1, 0, 2, 1, 2, 1, 1, 2, 1, 1, 0, 0, 2, 2, 1, 1, 2, 2, 0]\n",
      "The accuracy of the model using pytorch is: 96.66666666666667%\n"
     ]
    }
   ],
   "source": [
    "predicted_values_pytorch = []\n",
    "for item in predicted_values_pytorch_tensor:\n",
    "    predicted_values_pytorch.append(np.argmax(item.data.numpy()))\n",
    "\n",
    "print(predicted_values_pytorch)\n",
    "\n",
    "test_values_pytorch = []\n",
    "for item in y_test:\n",
    "    test_values_pytorch.append(np.argmax(item))\n",
    "\n",
    "correct_pytorch = 0\n",
    "for prediction_pytorch, test_pytorch in zip(predicted_values_pytorch, test_values_pytorch):\n",
    "    if prediction_pytorch == test_pytorch:\n",
    "        correct_pytorch = correct_pytorch+1\n",
    "        \n",
    "accuracy_pytorch = correct_pytorch/len(predicted_values_pytorch)\n",
    "\n",
    "print(\"The accuracy of the model using pytorch is: \"+str(accuracy_pytorch*100)+\"%\")"
   ]
  },
  {
   "cell_type": "code",
   "execution_count": 18,
   "metadata": {},
   "outputs": [
    {
     "name": "stdout",
     "output_type": "stream",
     "text": [
      "[2, 0, 1, 1, 2, 0, 0, 1, 2, 0, 1, 1, 0, 2, 1, 2, 1, 1, 2, 1, 1, 0, 0, 2, 2, 1, 1, 2, 2, 0]\n"
     ]
    }
   ],
   "source": [
    "print(predicted_values_pytorch)"
   ]
  },
  {
   "cell_type": "code",
   "execution_count": 19,
   "metadata": {},
   "outputs": [
    {
     "data": {
      "text/plain": [
       "tensor([[0., 0., 1.],\n",
       "        [1., 0., 0.],\n",
       "        [0., 1., 0.],\n",
       "        [0., 1., 0.],\n",
       "        [0., 0., 1.],\n",
       "        [1., 0., 0.],\n",
       "        [1., 0., 0.],\n",
       "        [0., 1., 0.],\n",
       "        [0., 0., 1.],\n",
       "        [1., 0., 0.],\n",
       "        [0., 1., 0.],\n",
       "        [0., 1., 0.],\n",
       "        [1., 0., 0.],\n",
       "        [0., 1., 0.],\n",
       "        [0., 1., 0.],\n",
       "        [0., 0., 1.],\n",
       "        [0., 1., 0.],\n",
       "        [0., 1., 0.],\n",
       "        [0., 0., 1.],\n",
       "        [0., 1., 0.],\n",
       "        [0., 1., 0.],\n",
       "        [1., 0., 0.],\n",
       "        [1., 0., 0.],\n",
       "        [0., 0., 1.],\n",
       "        [0., 0., 1.],\n",
       "        [0., 1., 0.],\n",
       "        [0., 1., 0.],\n",
       "        [0., 0., 1.],\n",
       "        [0., 0., 1.],\n",
       "        [1., 0., 0.]])"
      ]
     },
     "execution_count": 19,
     "metadata": {},
     "output_type": "execute_result"
    }
   ],
   "source": [
    "y_test_tensor"
   ]
  },
  {
   "cell_type": "code",
   "execution_count": null,
   "metadata": {},
   "outputs": [],
   "source": []
  }
 ],
 "metadata": {
  "kernelspec": {
   "display_name": "Python 3",
   "language": "python",
   "name": "python3"
  },
  "language_info": {
   "codemirror_mode": {
    "name": "ipython",
    "version": 3
   },
   "file_extension": ".py",
   "mimetype": "text/x-python",
   "name": "python",
   "nbconvert_exporter": "python",
   "pygments_lexer": "ipython3",
   "version": "3.7.1"
  }
 },
 "nbformat": 4,
 "nbformat_minor": 2
}
